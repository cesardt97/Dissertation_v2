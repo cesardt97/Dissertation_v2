{
 "cells": [
  {
   "cell_type": "markdown",
   "metadata": {},
   "source": [
    "#### Utility Functions"
   ]
  },
  {
   "cell_type": "code",
   "execution_count": 2,
   "metadata": {},
   "outputs": [],
   "source": [
    "import numpy as np\n",
    "import netCDF4 as nc\n",
    "from netCDF4 import Dataset\n",
    "import os\n",
    "from utilities import *"
   ]
  },
  {
   "cell_type": "code",
   "execution_count": 129,
   "metadata": {},
   "outputs": [
    {
     "name": "stdout",
     "output_type": "stream",
     "text": [
      "Conventions: CF-1.6\n",
      "history: 2024-07-12 00:20:23 GMT by grib_to_netcdf-2.28.1: /opt/ecmwf/mars-client/bin/grib_to_netcdf -S param -o /cache/data8/adaptor.mars.internal-1720743622.4797337-1546-7-491f5957-9e6d-4a44-b45a-e3e27d89a58e.nc /cache/tmp/491f5957-9e6d-4a44-b45a-e3e27d89a58e-adaptor.mars.internal-1720743617.0208066-1546-3-tmp.grib\n",
      "longitude: 1440\n",
      "latitude: 721\n",
      "time: 18\n",
      "longitude: float32, ('longitude',)\n",
      "  units: degrees_east\n",
      "  long_name: longitude\n",
      "latitude: float32, ('latitude',)\n",
      "  units: degrees_north\n",
      "  long_name: latitude\n",
      "time: int32, ('time',)\n",
      "  units: hours since 1900-01-01 00:00:00.0\n",
      "  long_name: time\n",
      "  calendar: gregorian\n",
      "u: int16, ('time', 'expver', 'latitude', 'longitude')\n",
      "  scale_factor: 0.0006413783645530925\n",
      "  add_offset: -0.1487353009986828\n",
      "  _FillValue: -32767\n",
      "  missing_value: -32767\n",
      "  units: m s**-1\n",
      "  long_name: U component of wind\n",
      "  standard_name: eastward_wind\n",
      "v: int16, ('time', 'expver', 'latitude', 'longitude')\n",
      "  scale_factor: 0.0006212465854009293\n",
      "  add_offset: 1.9185097578718504\n",
      "  _FillValue: -32767\n",
      "  missing_value: -32767\n",
      "  units: m s**-1\n",
      "  long_name: V component of wind\n",
      "  standard_name: northward_wind\n"
     ]
    }
   ],
   "source": [
    "# TESTING:\n",
    "if False:\n",
    "    with Dataset(source_file, 'r') as src:\n",
    "        for k in src.ncattrs():\n",
    "            print(f\"{k}: {src.getncattr(k)}\")\n",
    "        \n",
    "        for name, dimension in src.dimensions.items():\n",
    "            if not name == 'expver':\n",
    "                print(f\"{name}: {len(dimension) if not dimension.isunlimited() else 'unlimited'}\")\n",
    "        \n",
    "        for name, variable in src.variables.items():\n",
    "            if name in ['time', 'latitude', 'longitude', 'u', 'v']:\n",
    "                print(f\"{name}: {variable.datatype}, {variable.dimensions}\")\n",
    "                for k in variable.ncattrs():\n",
    "                    print(f\"  {k}: {variable.getncattr(k)}\")"
   ]
  },
  {
   "cell_type": "markdown",
   "metadata": {},
   "source": [
    "### Changing format of other files"
   ]
  },
  {
   "cell_type": "code",
   "execution_count": 4,
   "metadata": {},
   "outputs": [
    {
     "name": "stdout",
     "output_type": "stream",
     "text": [
      "Data shape:  (1015, 721, 1440)\n",
      "Converted ERA5_SST_1940-2024.nc to ERA5_SST_1940-2024_converted.nc\n"
     ]
    }
   ],
   "source": [
    "# Convert your NetCDF3 file to NetCDF4\n",
    "folder_path = './data/'\n",
    "ERA5_files = ['ERA5_SST_1940-2024.nc'] \n",
    "variables = ['sst']\n",
    "\n",
    "for file, var in zip(ERA5_files, variables):\n",
    "    final_file = file.replace('.nc', '_converted.nc')\n",
    "    convert_to_netcdf4(folder_path, file, final_file, var)"
   ]
  },
  {
   "cell_type": "code",
   "execution_count": 6,
   "metadata": {},
   "outputs": [
    {
     "name": "stdout",
     "output_type": "stream",
     "text": [
      "<class 'netCDF4._netCDF4.Dataset'>\n",
      "root group (NETCDF4 data model, file format HDF5):\n",
      "    Conventions: CF-1.6\n",
      "    history: 2024-08-22 23:46:44 GMT by grib_to_netcdf-2.28.1: /opt/ecmwf/mars-client/bin/grib_to_netcdf -S param -o /cache/data9/adaptor.mars.internal-1724370372.7910786-23845-12-222df68d-3e3b-4111-9aec-312e5d5b17fd.nc /cache/tmp/222df68d-3e3b-4111-9aec-312e5d5b17fd-adaptor.mars.internal-1724370271.2287602-23845-7-tmp.grib\n",
      "    dimensions(sizes): longitude(1440), latitude(721), time(1015)\n",
      "    variables(dimensions): float32 longitude(longitude), float32 latitude(latitude), int32 time(time), int16 sst(time, latitude, longitude)\n",
      "    groups: \n",
      "(1015, 721, 1440)\n"
     ]
    }
   ],
   "source": [
    "# Confirm everything is correct\n",
    "for file, var in zip(ERA5_files, variables):\n",
    "    data = Dataset(folder_path + file.replace('.nc', '_converted.nc'), 'r')\n",
    "    print(data)\n",
    "    print(data.variables[var].shape)\n",
    "    data.close()"
   ]
  },
  {
   "cell_type": "code",
   "execution_count": 7,
   "metadata": {},
   "outputs": [
    {
     "name": "stdout",
     "output_type": "stream",
     "text": [
      "cdo    detrend:                        1 1 1 1 1 1 1 1 1 1 2 2 2 2 2 2 2 2 2 2 3 3 3 3 3 3 3 3 3 3 4 4 4 4 4 4 4 4 4 4 5 5 5 5 5 5 5 5 5 5 6 6 6 6 6 6 6 6 6 6 7 7 7 7 7 7 7 7 7 7 8 8 8 8 8 8 8 8 8 8 9 9 9 9 9 9 9 9 9 910\u001b[32mcdo    detrend: \u001b[0mProcessed 1053813600 values from 1 variable over 1015 timesteps [10.88s 6943MB]\n"
     ]
    }
   ],
   "source": [
    "# detrend the datasets\n",
    "!cdo detrend ./data/ERA5_SST_1940-2024_converted.nc ./data/ERA5_SST_1940-2024_converted_detrend.nc"
   ]
  },
  {
   "cell_type": "code",
   "execution_count": 9,
   "metadata": {},
   "outputs": [
    {
     "name": "stdout",
     "output_type": "stream",
     "text": [
      "<class 'netCDF4._netCDF4.Dataset'>\n",
      "root group (NETCDF4 data model, file format HDF5):\n",
      "    CDI: Climate Data Interface version 2.4.2 (https://mpimet.mpg.de/cdi)\n",
      "    Conventions: CF-1.6\n",
      "    history: Fri Aug 23 01:17:35 2024: cdo detrend ./data/ERA5_SST_1940-2024_converted.nc ./data/ERA5_SST_1940-2024_converted_detrend.nc\n",
      "2024-08-22 23:46:44 GMT by grib_to_netcdf-2.28.1: /opt/ecmwf/mars-client/bin/grib_to_netcdf -S param -o /cache/data9/adaptor.mars.internal-1724370372.7910786-23845-12-222df68d-3e3b-4111-9aec-312e5d5b17fd.nc /cache/tmp/222df68d-3e3b-4111-9aec-312e5d5b17fd-adaptor.mars.internal-1724370271.2287602-23845-7-tmp.grib\n",
      "    CDO: Climate Data Operators version 2.4.2 (https://mpimet.mpg.de/cdo)\n",
      "    dimensions(sizes): time(1015), longitude(1440), latitude(721)\n",
      "    variables(dimensions): int32 time(time), float32 longitude(longitude), float32 latitude(latitude), float32 sst(time, latitude, longitude)\n",
      "    groups: \n",
      "(1015, 721, 1440)\n"
     ]
    }
   ],
   "source": [
    "# Confirm everything is correct in the detrended files \n",
    "for file, var in zip(ERA5_files, variables):\n",
    "    data = Dataset(folder_path + file.replace('.nc', '_converted_detrend.nc'), 'r')\n",
    "    print(data)\n",
    "    print(data.variables[var].shape)\n",
    "    data.close()"
   ]
  },
  {
   "cell_type": "code",
   "execution_count": 10,
   "metadata": {},
   "outputs": [
    {
     "name": "stderr",
     "output_type": "stream",
     "text": [
      "INFO:root:funciona\n"
     ]
    },
    {
     "name": "stdout",
     "output_type": "stream",
     "text": [
      "Loading data:\n",
      "\tOriginal date range 1940-01-01 00:00:00 - 2024-07-01 00:00:00 \n",
      "Original data shape (1015, 721, 1440)\n",
      "\tSlicing lon = [150, 360], lat = [-66, 48]\n",
      "\tanomalize means_variance with base period (1948, 2019)\n",
      "Stard and end dates:  1940-01-01 00:00:00 2024-07-01 00:00:00\n",
      "\tSlicing from = 1948-01-01 00:00:00 to 2024-01-01 00:00:00\n",
      "Stard and end dates after slicing:  1948-01-01 00:00:00 2023-12-01 00:00:00\n"
     ]
    }
   ],
   "source": [
    "# Upload for final check\n",
    "\n",
    "from utils_pca_fun import *\n",
    "import pandas as pd\n",
    "import numpy as np\n",
    "from netCDF4 import Dataset\n",
    "from geo_field_jakob import GeoField\n",
    "\n",
    "d = {}\n",
    "\n",
    "ERA5_files = [\n",
    "    'ERA5_SST_1940-2024_converted_detrend.nc',\n",
    "    # 'PRATE_NCEP_NCAR_Reanalysis_1948-2024.nc'\n",
    "    ]\n",
    "\n",
    "variables = [\n",
    "    'sst',\n",
    "    # 'prate'\n",
    "    ]\n",
    "\n",
    "lats = [-66, 48] # SST\n",
    "# lats = [-20, 1] # PRATE\n",
    "\n",
    "lons = [150, 360] # SST\n",
    "# lons = [310, 325] # PRATE\n",
    "\n",
    "d['data_parameters'] = {\n",
    "    'folder_name' : './data/',\n",
    "    'load_filename' :  ERA5_files[0], \n",
    "    'varname' : variables[0],\n",
    "                \n",
    "    'use_cdftime' : True,\n",
    "    'from_date' : datetime(1948, 1, 1),\n",
    "    'to_date' : datetime(2024, 1, 1), \n",
    "    'anomalize': 'means_variance',\n",
    "    'anomalize_base' :  (1948, 2019),\n",
    "    'slice_lat' : lats, # [-20, 1], #\n",
    "    'slice_lon' : lons, # [310, 325], # \n",
    "    'level' : None,   \n",
    "    'verbosity' : 2,\n",
    "    }\n",
    "\n",
    "geo_object = load_data(**d['data_parameters'])\n",
    "data = geo_object.data()\n",
    "start_end_date = [geo_object.start_date, geo_object.end_date]"
   ]
  }
 ],
 "metadata": {
  "kernelspec": {
   "display_name": "Python 3",
   "language": "python",
   "name": "python3"
  },
  "language_info": {
   "codemirror_mode": {
    "name": "ipython",
    "version": 3
   },
   "file_extension": ".py",
   "mimetype": "text/x-python",
   "name": "python",
   "nbconvert_exporter": "python",
   "pygments_lexer": "ipython3",
   "version": "3.11.4"
  },
  "orig_nbformat": 4
 },
 "nbformat": 4,
 "nbformat_minor": 2
}
